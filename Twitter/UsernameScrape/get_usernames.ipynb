{
 "cells": [
  {
   "cell_type": "code",
   "execution_count": 1,
   "metadata": {},
   "outputs": [],
   "source": [
    "import requests\n",
    "from bs4 import BeautifulSoup"
   ]
  },
  {
   "cell_type": "code",
   "execution_count": 2,
   "metadata": {},
   "outputs": [],
   "source": [
    "# url = \"https://jasoncochran.com/blog/all-the-national-park-service-twitter-accounts-in-one-place/#:~:text=List%20of%20National%20Park%20units%20on%20Twitter%20%28Updated%29,Utah%3A%20%40ArchesNPS%20Bandelier%20National%20Monument%2C%20New%20Mexico%3A%20%40BandelierNPS\"\n",
    "# response = requests.get(url)\n",
    "with open('users_soup.html', 'r') as file:\n",
    "    soup = BeautifulSoup(file, features='html.parser')"
   ]
  },
  {
   "cell_type": "code",
   "execution_count": 3,
   "metadata": {},
   "outputs": [],
   "source": [
    "# section = soup.find('section', {'class':'entry-content clearfix'})\n",
    "# div_list = soup.find_all('p', {'style':'text-align: left'})\n",
    "div_list = soup.find_all('p')"
   ]
  },
  {
   "cell_type": "code",
   "execution_count": 4,
   "metadata": {},
   "outputs": [],
   "source": [
    "handle_list = []\n",
    "for div in div_list:\n",
    "    element_list = div.find_all('a')\n",
    "    for element in element_list:\n",
    "        if '@' in element.text:\n",
    "            handle_list.append(element.text)"
   ]
  },
  {
   "cell_type": "code",
   "execution_count": 13,
   "metadata": {},
   "outputs": [],
   "source": [
    "new_handle_list = []\n",
    "for handle in handle_list:\n",
    "    new_handle = ''\n",
    "    for character in handle:\n",
    "        if character != \"\\n\":\n",
    "            new_handle += character\n",
    "            if handle.index(character) == len(handle)-1:\n",
    "                new_handle_list.append(new_handle)\n",
    "            pass\n",
    "        else:\n",
    "            new_handle_list.append(new_handle)\n",
    "            pass"
   ]
  },
  {
   "cell_type": "code",
   "execution_count": 16,
   "metadata": {},
   "outputs": [],
   "source": [
    "new_handle_list = []\n",
    "for handle in handle_list:\n",
    "    new_handle = ''\n",
    "    for character in handle:\n",
    "        if character == \"@\":\n",
    "            pass\n",
    "        elif character != \"\\n\":\n",
    "            new_handle += character\n",
    "            if handle.index(character) == len(handle)-1:\n",
    "                new_handle_list.append(new_handle)\n",
    "            pass\n",
    "        else:\n",
    "            new_handle_list.append(new_handle)\n",
    "            pass"
   ]
  },
  {
   "cell_type": "code",
   "execution_count": 17,
   "metadata": {},
   "outputs": [],
   "source": [
    "import pickle\n",
    "with open('handle_list','wb') as file:\n",
    "    pickle.dump(new_handle_list, file)"
   ]
  },
  {
   "cell_type": "code",
   "execution_count": 18,
   "metadata": {},
   "outputs": [
    {
     "name": "stdout",
     "output_type": "stream",
     "text": [
      "['AcadiaNPS', 'AFBurialGrndNPS', 'AlleghPortNPS', 'Antietamnps1862', 'AssateagueNPS', 'BookerTNPS', 'BOAFNPS', 'BostonNHP', 'CapeCodNPS', 'WoodsonNHS', 'ChesapeakeNPS', 'ClaraBartonNPS', 'CHOHTrails', 'DelWaterGapNPS', 'FederalHallNPS', 'FireIslandNPS', 'FtMcHenryNPS', 'FortMonroeNPS', 'FtNecessityNPS', 'FtWashingtonNPS', 'GatewayNPS', 'GrantsTombNPS', 'GettysburgNMP', 'GlenEchoParkNPS', 'GovIslandNPS', 'GuilfordNPS', 'StatueEllisNPS', 'FredDouglassNPS', 'HamiltonGrngNPS', 'HamptonNPS', 'NPS_HydePark', 'IndependenceNHP', 'JohnstownFldNPS', 'Lowell_NPS', 'MnhtnProjectNPS', 'BethuneNHS', 'Monocacynps1864', 'MorristownNPS', 'NationalMallNPS', 'NewBedfordNPS', 'NYHarborPrksNPS', 'NortheastNPS', 'NPS_NMSC', 'NatlParkSvcNER', 'PresParkNPS', 'RockCreekNPS', 'rowi1636', 'SagamoreHillNHS', 'StPaulChurchNPS', 'SaintGaudensNHS ', 'SalemMartimeNPS', 'StatueEllisNPS', 'TRBirthplaceNPS', 'TRInauguralSite', 'ThomasEdisonNHP', 'ThomasStoneNHS', 'ValleyForgeNHP', 'WeirFarmNPS', 'WomensRightsNPS', 'AndeNHS', 'AppomattoxNPS', 'ArlingtonNPS', 'BiCyNPres', 'BigSouthForkNRR', 'BiscayneNPS', 'CapeHatterasNPS', 'CapeLookoutNPS', 'PinckneyNPS', 'CastilloNPS', 'ChickamaugaNPS', 'ColonialParkNPS', 'CongareeNPS', 'CumberlandIslNP', 'DesoNM1539', 'DryTortugasNPS', 'EvergladesNPS', 'FortDonelsonNPS', 'FtFredericaNPS', 'FortMatanzasNPS', 'FortPulaskiNPS', 'FortRaleighNPS', 'FtSumterNPS', 'NPSGeWa', 'GreatSmokyNPS', 'GulfIslands_NPS', 'HarpersFerryNPS', 'JimmyCarterNHS1', 'KennesawNPS', 'ManassasNPS', 'NatchezNPS', 'NewRiverNPS', 'ObedWSR', 'OcmulgeeNPS1', 'PetersburgNPS', 'PWForestPark', 'RichmondNPS', 'March4RightsNPS', 'ShenandoahNPS', 'SSBTrail', 'StonesRiverNPS', 'TimucuanNPS', 'Wolf_Trap_NPS', 'WrightBrosNPS', 'AmistadNPS', 'BadlandsNPS', 'BearPawNPS', 'BigBendNPS', 'BigHoleNPS', 'BigThicketNPS', 'BlackCanyonNPS', 'BighornCanynNRA', 'BRVB_NHS', 'BuffaloNPS', 'CapitolReefNPS', 'CentralHighNPS', 'CharlesYoungNPS', 'ChickasawNPS', 'CurecantiNPS', 'CVNPNPS', 'DaytonNHP', 'DinosaurNPS', 'FlorissantNPS', 'FortLaramieNPS', 'FortLarnedNPS', 'FortSmithNHS', 'GeorgeRClarkNPS', 'GWCarverNPS', 'GlacierBayNPS', 'glaciernps', 'NPSGrPo', 'GrandTetonNPS', 'HarrySTrumanNPS', 'HomesteadNM', 'HooverNPS', 'IndianaDunesNPS', 'GarfieldNPS', 'JeanLafitteNPS', 'KeweenawNPS', 'LincolnBoyhood', 'LincolnHomeNPS', 'LittleBigNPS', 'LBJohnsonNPS', 'MammothCaveNP', 'MidWestNPS', 'MIMI_Ranger', 'NiobraraNSR', 'OzarkNPS', 'PadreIslandNPS', 'PaloAltoNPS', 'RMNPOfficial', 'MissionsNPS', 'TRooseveltNPS', 'WashitaNPS', 'WilliamTaftNPS', 'YellowstoneNPS', 'ArchesNPS', 'BandelierNPS', 'BryceCanyonNPS', 'CapitolReefNPS', 'CapulinNPS', 'CasaGrandeNPS', 'CanyonlandsNPS', 'ChacoCultureNHP', 'GrandCanyonNPS', 'GreatBasinNPS', 'HomesteadNM', 'LakeMeadNRA', 'MontezumaNPS', 'PetrifiedNPS', 'PetroglyphNPS', 'PicturedRocksNL', 'SaguaroNPS', 'aTimpCaveNPS', 'TumacacoriNPS', 'TuzigootNPS', 'ZionNPS', 'AlcatrazIsland', 'CabrilloNPS', 'CityOfRocksNPS', 'CraterLakeNPS', 'DeathValleyNPS', 'DevilsPostNPS', 'FortPointNPS', 'FtVancouverNPS', 'GoldenGateNPS', 'JDFossilBedsNPS', 'JohnMuirNPS', 'JoshuaTreeNP', 'AnzaTrailNPS', 'SequoiaKingsNPS', 'LkRooseveltNPS', 'LassenNPS', 'LavaBedsNPS', 'MuirWoodsNPS', 'MountRainierNPS', 'NCascadesNPS', 'OlympicNP', 'OregonCavesNPS', 'PinnaclesNPS', 'PointReyesNPS', 'PresidioSF', 'RedwoodNPS', 'RosieRiveterNPS', 'SanJuanIsNPS', 'SantaMonicaMtns', 'SequoiaKingsNPS', 'YosemiteNPS ', 'AlaKahakaiNPS', 'AmericanMemorialNPS', 'NPamericansamoa', 'AlaskaNPS', 'BeringLandNPS', 'CKrusensternNPS', 'DenaliNPS', 'GatesArcticNPS', 'HaleakalaNPS', 'KalaupapaNPS', 'KatmaiNPS', 'KenaiFjordsNPS', 'KlondikeAKNPS', 'KalokoNPS', 'KobukValleyNPS', 'LakeClarkNPS', 'NoatakNPS', 'PuuhonuaNPS', 'Volcanoes_NPS', 'WarInPacificNPS', 'WWIIValorNPS', 'YukonCharleyNPS', 'NatlParkService', 'NPSArcheology', 'ABPPNPS', 'DenSrvcCtrNPS', 'Interior', 'NPS_CivilWar', 'NPSCaptlAreaSci', 'NPSEMR_SEast', 'GoParks', 'NatureNPS', 'NEROInterpLnD', 'ClimateNPS', 'Office_RDI_NPS', 'NPSParkStores', 'NPSUrban', 'NPSYouth']\n"
     ]
    }
   ],
   "source": [
    "with open('handle_list', 'rb') as file:\n",
    "    new_list = pickle.load(file)\n",
    "\n",
    "print(new_list)"
   ]
  },
  {
   "cell_type": "code",
   "execution_count": null,
   "metadata": {},
   "outputs": [],
   "source": []
  }
 ],
 "metadata": {
  "kernelspec": {
   "display_name": "natparkapp",
   "language": "python",
   "name": "python3"
  },
  "language_info": {
   "codemirror_mode": {
    "name": "ipython",
    "version": 3
   },
   "file_extension": ".py",
   "mimetype": "text/x-python",
   "name": "python",
   "nbconvert_exporter": "python",
   "pygments_lexer": "ipython3",
   "version": "3.9.15 (main, Nov 24 2022, 14:39:17) [MSC v.1916 64 bit (AMD64)]"
  },
  "orig_nbformat": 4,
  "vscode": {
   "interpreter": {
    "hash": "c6f212776aadffd18349a777feb5ded074ef5ecbe7723709f5ccdd3092b2853c"
   }
  }
 },
 "nbformat": 4,
 "nbformat_minor": 2
}
